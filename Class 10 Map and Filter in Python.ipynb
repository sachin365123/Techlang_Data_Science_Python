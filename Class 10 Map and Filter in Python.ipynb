{
 "cells": [
  {
   "cell_type": "markdown",
   "id": "53a7518a",
   "metadata": {},
   "source": [
    "# Map and Filter in Python"
   ]
  },
  {
   "cell_type": "code",
   "execution_count": 1,
   "id": "c3d5179f",
   "metadata": {},
   "outputs": [],
   "source": [
    "numbers=[1,2,3,4,5]"
   ]
  },
  {
   "cell_type": "markdown",
   "id": "2a916495",
   "metadata": {},
   "source": [
    "## map "
   ]
  },
  {
   "cell_type": "code",
   "execution_count": 13,
   "id": "f4cfbd19",
   "metadata": {},
   "outputs": [],
   "source": [
    "# two built-in functions\n",
    "def square(x):\n",
    "    return x**2"
   ]
  },
  {
   "cell_type": "code",
   "execution_count": 21,
   "id": "67b1abb1",
   "metadata": {},
   "outputs": [],
   "source": [
    "sq_number1=list(map(square,numbers))"
   ]
  },
  {
   "cell_type": "code",
   "execution_count": 22,
   "id": "a45f8ef4",
   "metadata": {},
   "outputs": [
    {
     "data": {
      "text/plain": [
       "[1, 4, 9, 16, 25]"
      ]
     },
     "execution_count": 22,
     "metadata": {},
     "output_type": "execute_result"
    }
   ],
   "source": [
    "sq_number1"
   ]
  },
  {
   "cell_type": "code",
   "execution_count": 29,
   "id": "a31d02c9",
   "metadata": {},
   "outputs": [],
   "source": []
  },
  {
   "cell_type": "code",
   "execution_count": 31,
   "id": "e3fd203d",
   "metadata": {},
   "outputs": [],
   "source": [
    "modify_list=[]\n",
    "for i in numbers:\n",
    "    j=square(i)\n",
    "    modify_list.append(j)\n",
    "#     print(i)"
   ]
  },
  {
   "cell_type": "code",
   "execution_count": 32,
   "id": "0719871c",
   "metadata": {},
   "outputs": [
    {
     "data": {
      "text/plain": [
       "[1, 4, 9, 16, 25]"
      ]
     },
     "execution_count": 32,
     "metadata": {},
     "output_type": "execute_result"
    }
   ],
   "source": [
    "modify_list"
   ]
  },
  {
   "cell_type": "code",
   "execution_count": 17,
   "id": "ce40892b",
   "metadata": {},
   "outputs": [],
   "source": [
    "sq_number=list(sq_number)"
   ]
  },
  {
   "cell_type": "code",
   "execution_count": 18,
   "id": "daea99e6",
   "metadata": {},
   "outputs": [
    {
     "name": "stdout",
     "output_type": "stream",
     "text": [
      "[1, 4, 9, 16, 25]\n"
     ]
    }
   ],
   "source": [
    "print(sq_number)"
   ]
  },
  {
   "cell_type": "markdown",
   "id": "ec459eef",
   "metadata": {},
   "source": [
    "#### map function example 2 "
   ]
  },
  {
   "cell_type": "code",
   "execution_count": 40,
   "id": "02ebb8bd",
   "metadata": {},
   "outputs": [],
   "source": [
    "faherenite_temp=[32,50,68,86,104]\n"
   ]
  },
  {
   "cell_type": "code",
   "execution_count": 41,
   "id": "b376d7f4",
   "metadata": {},
   "outputs": [],
   "source": [
    "def far_to_cel(f):\n",
    "    return (f-32)*5/9"
   ]
  },
  {
   "cell_type": "code",
   "execution_count": 42,
   "id": "109510b2",
   "metadata": {},
   "outputs": [],
   "source": [
    "cent_temp_value=map(far_to_cel,faherenite_temp)"
   ]
  },
  {
   "cell_type": "code",
   "execution_count": 43,
   "id": "7dec957f",
   "metadata": {},
   "outputs": [],
   "source": [
    "cent_temp_value=list(cent_temp_value)"
   ]
  },
  {
   "cell_type": "code",
   "execution_count": 44,
   "id": "f32ccb63",
   "metadata": {},
   "outputs": [
    {
     "data": {
      "text/plain": [
       "[0.0, 10.0, 20.0, 30.0, 40.0]"
      ]
     },
     "execution_count": 44,
     "metadata": {},
     "output_type": "execute_result"
    }
   ],
   "source": [
    "cent_temp_value"
   ]
  },
  {
   "cell_type": "markdown",
   "id": "eb457a14",
   "metadata": {},
   "source": [
    "## map function example 3 "
   ]
  },
  {
   "cell_type": "code",
   "execution_count": 52,
   "id": "03233fb7",
   "metadata": {},
   "outputs": [],
   "source": [
    "words=[\"apple\",\"banana\",\"cherry\"]\n",
    "def capitalize(word):\n",
    "    return word.capitalize()"
   ]
  },
  {
   "cell_type": "code",
   "execution_count": 61,
   "id": "6abf9ec1",
   "metadata": {},
   "outputs": [],
   "source": [
    "capital_words=map(capitalize,words)"
   ]
  },
  {
   "cell_type": "code",
   "execution_count": 62,
   "id": "8f421f8e",
   "metadata": {},
   "outputs": [],
   "source": [
    "capital_words=list(capital_words)"
   ]
  },
  {
   "cell_type": "code",
   "execution_count": 63,
   "id": "6a5f2603",
   "metadata": {},
   "outputs": [
    {
     "data": {
      "text/plain": [
       "['APPLE', 'BANANA', 'CHERRY', 'MANGO', 'CHIKU']"
      ]
     },
     "execution_count": 63,
     "metadata": {},
     "output_type": "execute_result"
    }
   ],
   "source": [
    "capital_words"
   ]
  },
  {
   "cell_type": "code",
   "execution_count": 60,
   "id": "9410999d",
   "metadata": {},
   "outputs": [],
   "source": [
    "words=[\"apple\",\"banana\",\"cherry\",\"mango\",\"chiku\"]\n",
    "def capitalize(word):\n",
    "    return word.upper()"
   ]
  },
  {
   "cell_type": "code",
   "execution_count": null,
   "id": "75481324",
   "metadata": {},
   "outputs": [],
   "source": []
  },
  {
   "cell_type": "markdown",
   "id": "508ae1d5",
   "metadata": {},
   "source": [
    "## filter "
   ]
  },
  {
   "cell_type": "code",
   "execution_count": 37,
   "id": "5403cb8e",
   "metadata": {},
   "outputs": [
    {
     "data": {
      "text/plain": [
       "[1, 2, 3, 4, 5]"
      ]
     },
     "execution_count": 37,
     "metadata": {},
     "output_type": "execute_result"
    }
   ],
   "source": [
    "numbers"
   ]
  },
  {
   "cell_type": "code",
   "execution_count": 33,
   "id": "6d524ed6",
   "metadata": {},
   "outputs": [],
   "source": [
    "def is_even(x):\n",
    "    return x%2==0"
   ]
  },
  {
   "cell_type": "code",
   "execution_count": 74,
   "id": "758435f6",
   "metadata": {},
   "outputs": [
    {
     "data": {
      "text/plain": [
       "True"
      ]
     },
     "execution_count": 74,
     "metadata": {},
     "output_type": "execute_result"
    }
   ],
   "source": [
    "is_even(8)"
   ]
  },
  {
   "cell_type": "code",
   "execution_count": 39,
   "id": "a0f9253f",
   "metadata": {},
   "outputs": [],
   "source": [
    "# is_even=x%2==0"
   ]
  },
  {
   "cell_type": "code",
   "execution_count": 34,
   "id": "c91a7f51",
   "metadata": {},
   "outputs": [],
   "source": [
    "even_numbers=filter(is_even,numbers)"
   ]
  },
  {
   "cell_type": "code",
   "execution_count": 35,
   "id": "897dbe64",
   "metadata": {},
   "outputs": [],
   "source": [
    "even_numbers=list(even_numbers)"
   ]
  },
  {
   "cell_type": "code",
   "execution_count": 36,
   "id": "0b74e9db",
   "metadata": {},
   "outputs": [
    {
     "data": {
      "text/plain": [
       "[2, 4]"
      ]
     },
     "execution_count": 36,
     "metadata": {},
     "output_type": "execute_result"
    }
   ],
   "source": [
    "even_numbers"
   ]
  },
  {
   "cell_type": "code",
   "execution_count": null,
   "id": "b4a17080",
   "metadata": {},
   "outputs": [],
   "source": [
    "input_int=input ('enter a number:')\n",
    "input_int%2==0\n",
    "# sachin=filter(<function_name>,<Iterable_things>)"
   ]
  },
  {
   "cell_type": "code",
   "execution_count": null,
   "id": "9f220597",
   "metadata": {},
   "outputs": [],
   "source": []
  },
  {
   "cell_type": "markdown",
   "id": "2141c52f",
   "metadata": {},
   "source": [
    "## Filter function example 2 "
   ]
  },
  {
   "cell_type": "code",
   "execution_count": 64,
   "id": "b496f3da",
   "metadata": {},
   "outputs": [],
   "source": [
    "def is_prime(n):\n",
    "    if n<=1:\n",
    "        return False\n",
    "    for i in range(2,int(n**0.5)+1):\n",
    "        if n%i==0:\n",
    "            return False\n",
    "    return True"
   ]
  },
  {
   "cell_type": "code",
   "execution_count": 69,
   "id": "b8f01462",
   "metadata": {},
   "outputs": [],
   "source": [
    "numbers=[7,12,17,22,31,50]"
   ]
  },
  {
   "cell_type": "code",
   "execution_count": 75,
   "id": "e9132f94",
   "metadata": {},
   "outputs": [],
   "source": [
    "numbers=[3,35,85,105,117,152,7,12,17,22,31,50]"
   ]
  },
  {
   "cell_type": "code",
   "execution_count": 76,
   "id": "1b3a1f2b",
   "metadata": {},
   "outputs": [],
   "source": [
    "prime_numbers=filter(is_prime,numbers)"
   ]
  },
  {
   "cell_type": "code",
   "execution_count": 77,
   "id": "bc192417",
   "metadata": {},
   "outputs": [],
   "source": [
    "prime_numbers=list(prime_numbers)"
   ]
  },
  {
   "cell_type": "code",
   "execution_count": 78,
   "id": "92eee9b8",
   "metadata": {},
   "outputs": [
    {
     "data": {
      "text/plain": [
       "[3, 7, 17, 31]"
      ]
     },
     "execution_count": 78,
     "metadata": {},
     "output_type": "execute_result"
    }
   ],
   "source": [
    "prime_numbers"
   ]
  },
  {
   "cell_type": "markdown",
   "id": "46bf98ef",
   "metadata": {},
   "source": [
    "### Filter function example 3"
   ]
  },
  {
   "cell_type": "code",
   "execution_count": 79,
   "id": "de498173",
   "metadata": {},
   "outputs": [],
   "source": [
    "words=[\"Birth certificate\",\"Genealogy\",\"History\",\"List\",\"Phrase\",\"Clause\",\"Sentence\",\"Title\"]"
   ]
  },
  {
   "cell_type": "code",
   "execution_count": 85,
   "id": "0ff085cf",
   "metadata": {},
   "outputs": [],
   "source": [
    "def is_length_seven(w):\n",
    "    return len(w)<=7\n"
   ]
  },
  {
   "cell_type": "code",
   "execution_count": 86,
   "id": "0549aec5",
   "metadata": {},
   "outputs": [],
   "source": [
    "final_lenth_seven=filter(is_length_seven,words)"
   ]
  },
  {
   "cell_type": "code",
   "execution_count": 87,
   "id": "88bf043d",
   "metadata": {},
   "outputs": [],
   "source": [
    "final_lenth_seven=list(final_lenth_seven)"
   ]
  },
  {
   "cell_type": "code",
   "execution_count": 84,
   "id": "7a790510",
   "metadata": {},
   "outputs": [
    {
     "data": {
      "text/plain": [
       "['Birth certificate', 'Genealogy', 'History', 'Sentence']"
      ]
     },
     "execution_count": 84,
     "metadata": {},
     "output_type": "execute_result"
    }
   ],
   "source": [
    "final_lenth_seven"
   ]
  },
  {
   "cell_type": "code",
   "execution_count": 88,
   "id": "437def6f",
   "metadata": {},
   "outputs": [
    {
     "data": {
      "text/plain": [
       "['History', 'List', 'Phrase', 'Clause', 'Title']"
      ]
     },
     "execution_count": 88,
     "metadata": {},
     "output_type": "execute_result"
    }
   ],
   "source": [
    "final_lenth_seven"
   ]
  },
  {
   "cell_type": "code",
   "execution_count": null,
   "id": "c2dcb809",
   "metadata": {},
   "outputs": [],
   "source": []
  },
  {
   "cell_type": "markdown",
   "id": "52f3781b",
   "metadata": {},
   "source": [
    "## format in Print "
   ]
  },
  {
   "cell_type": "code",
   "execution_count": 10,
   "id": "814b1e46",
   "metadata": {},
   "outputs": [
    {
     "name": "stdout",
     "output_type": "stream",
     "text": [
      "Candidate name: Shridhar and his Age: 25 \n"
     ]
    }
   ],
   "source": [
    "name='Shridhar'\n",
    "age=25\n",
    "contact=890960\n",
    "print(f\"Candidate name: {name} and his Age: {age} \")"
   ]
  },
  {
   "cell_type": "code",
   "execution_count": 12,
   "id": "1b0f2562",
   "metadata": {},
   "outputs": [
    {
     "name": "stdout",
     "output_type": "stream",
     "text": [
      "Candidate name: 890960 and his Age: Shridhar and contact: 25 \n"
     ]
    }
   ],
   "source": [
    "print(\"Candidate name: {2} and his Age: {0} and contact: {1} \".format(name,age,contact))"
   ]
  },
  {
   "cell_type": "code",
   "execution_count": null,
   "id": "9d5575c6",
   "metadata": {},
   "outputs": [],
   "source": []
  }
 ],
 "metadata": {
  "kernelspec": {
   "display_name": "Python 3 (ipykernel)",
   "language": "python",
   "name": "python3"
  },
  "language_info": {
   "codemirror_mode": {
    "name": "ipython",
    "version": 3
   },
   "file_extension": ".py",
   "mimetype": "text/x-python",
   "name": "python",
   "nbconvert_exporter": "python",
   "pygments_lexer": "ipython3",
   "version": "3.9.13"
  }
 },
 "nbformat": 4,
 "nbformat_minor": 5
}
