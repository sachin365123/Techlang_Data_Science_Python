{
 "cells": [
  {
   "cell_type": "code",
   "execution_count": 13,
   "id": "adbda751",
   "metadata": {},
   "outputs": [],
   "source": [
    "import sqlite3 as s\n",
    "import pandas as pd\n"
   ]
  },
  {
   "cell_type": "code",
   "execution_count": 14,
   "id": "e95ba9d3",
   "metadata": {},
   "outputs": [
    {
     "name": "stdout",
     "output_type": "stream",
     "text": [
      "table created successfully\n"
     ]
    }
   ],
   "source": [
    "conn = s.connect('database.sqlite')\n",
    "\n",
    "print(\"table created successfully\");\n"
   ]
  },
  {
   "cell_type": "code",
   "execution_count": 15,
   "id": "184e695f",
   "metadata": {},
   "outputs": [
    {
     "name": "stdout",
     "output_type": "stream",
     "text": [
      "     type                               name         tbl_name  rootpage  \\\n",
      "0   table                             Player           Player         2   \n",
      "1   table                         Extra_Runs       Extra_Runs         3   \n",
      "2   index      sqlite_autoindex_Extra_Runs_1       Extra_Runs         4   \n",
      "3   table                     Batsman_Scored   Batsman_Scored         7   \n",
      "4   index  sqlite_autoindex_Batsman_Scored_1   Batsman_Scored         8   \n",
      "5   table                      Batting_Style    Batting_Style        10   \n",
      "6   table                      Bowling_Style    Bowling_Style        11   \n",
      "7   table                            Country          Country        12   \n",
      "8   table                             Season           Season        14   \n",
      "9   table                               City             City        15   \n",
      "10  table                            Outcome          Outcome        16   \n",
      "11  table                             Win_By           Win_By        17   \n",
      "12  table                       Wicket_Taken     Wicket_Taken        18   \n",
      "13  index    sqlite_autoindex_Wicket_Taken_1     Wicket_Taken        19   \n",
      "14  table                              Venue            Venue        21   \n",
      "15  table                         Extra_Type       Extra_Type        23   \n",
      "16  table                           Out_Type         Out_Type        24   \n",
      "17  table                      Toss_Decision    Toss_Decision        25   \n",
      "18  table                             Umpire           Umpire        26   \n",
      "19  table                               Team             Team        27   \n",
      "20  table                       Ball_by_Ball     Ball_by_Ball        28   \n",
      "21  index    sqlite_autoindex_Ball_by_Ball_1     Ball_by_Ball        29   \n",
      "22  table                        sysdiagrams      sysdiagrams        31   \n",
      "23  table                    sqlite_sequence  sqlite_sequence        32   \n",
      "24  index      sysdiagrams_UK_principal_name      sysdiagrams        33   \n",
      "25  table                              Match            Match        34   \n",
      "26  table                              Rolee            Rolee        36   \n",
      "27  table                       Player_Match     Player_Match        37   \n",
      "28  index    sqlite_autoindex_Player_Match_1     Player_Match        38   \n",
      "\n",
      "                                                  sql  \n",
      "0   CREATE TABLE [Player] (\\n\\t[Player_Id]\\tintege...  \n",
      "1   CREATE TABLE [Extra_Runs] (\\n\\t[Match_Id]\\tint...  \n",
      "2                                                None  \n",
      "3   CREATE TABLE [Batsman_Scored] (\\n\\t[Match_Id]\\...  \n",
      "4                                                None  \n",
      "5   CREATE TABLE [Batting_Style] (\\n\\t[Batting_Id]...  \n",
      "6   CREATE TABLE [Bowling_Style] (\\n\\t[Bowling_Id]...  \n",
      "7   CREATE TABLE [Country] (\\n\\t[Country_Id]\\tinte...  \n",
      "8   CREATE TABLE [Season] (\\n\\t[Season_Id]\\tintege...  \n",
      "9   CREATE TABLE [City] (\\n\\t[City_Id]\\tinteger NO...  \n",
      "10  CREATE TABLE [Outcome] (\\n\\t[Outcome_Id]\\tinte...  \n",
      "11  CREATE TABLE [Win_By] (\\n\\t[Win_Id]\\tinteger N...  \n",
      "12  CREATE TABLE [Wicket_Taken] (\\n\\t[Match_Id]\\ti...  \n",
      "13                                               None  \n",
      "14  CREATE TABLE [Venue] (\\n\\t[Venue_Id]\\tinteger ...  \n",
      "15  CREATE TABLE [Extra_Type] (\\n\\t[Extra_Id]\\tint...  \n",
      "16  CREATE TABLE [Out_Type] (\\n\\t[Out_Id]\\tinteger...  \n",
      "17  CREATE TABLE [Toss_Decision] (\\n\\t[Toss_Id]\\ti...  \n",
      "18  CREATE TABLE [Umpire] (\\n\\t[Umpire_Id]\\tintege...  \n",
      "19  CREATE TABLE [Team] (\\n\\t[Team_Id]\\tinteger NO...  \n",
      "20  CREATE TABLE [Ball_by_Ball] (\\n\\t[Match_Id]\\ti...  \n",
      "21                                               None  \n",
      "22  CREATE TABLE [sysdiagrams] (\\n\\t[name]\\tnvarch...  \n",
      "23             CREATE TABLE sqlite_sequence(name,seq)  \n",
      "24  CREATE UNIQUE INDEX [sysdiagrams_UK_principal_...  \n",
      "25  CREATE TABLE [Match] (\\n\\t[Match_Id]\\tinteger ...  \n",
      "26  CREATE TABLE [Rolee] (\\n\\t[Role_Id]\\tinteger N...  \n",
      "27  CREATE TABLE [Player_Match] (\\n\\t[Match_Id]\\ti...  \n",
      "28                                               None  \n"
     ]
    }
   ],
   "source": [
    "table1 = pd.read_sql('''SELECT * FROM sqlite_master;''', conn)\n",
    "print(table1)\n"
   ]
  },
  {
   "cell_type": "code",
   "execution_count": 18,
   "id": "ca937417",
   "metadata": {},
   "outputs": [
    {
     "name": "stdout",
     "output_type": "stream",
     "text": [
      "    City_Id       City_Name  Country_id\n",
      "0         1       Bangalore           1\n",
      "1         2      Chandigarh           1\n",
      "2         3           Delhi           1\n",
      "3         4          Mumbai           1\n",
      "4         5         Kolkata           1\n",
      "5         6          Jaipur           1\n",
      "6         7       Hyderabad           1\n",
      "7         8         Chennai           1\n",
      "8         9       Cape Town           2\n",
      "9        10  Port Elizabeth           2\n",
      "10       11          Durban           2\n",
      "11       12       Centurion           2\n",
      "12       13     East London           2\n",
      "13       14    Johannesburg           2\n",
      "14       15       Kimberley           2\n",
      "15       16    Bloemfontein           2\n",
      "16       17       Ahmedabad           1\n",
      "17       18         Cuttack           1\n",
      "18       19          Nagpur           1\n",
      "19       20      Dharamsala           1\n",
      "20       21           Kochi           1\n",
      "21       22          Indore           1\n",
      "22       23   Visakhapatnam           1\n",
      "23       24            Pune           1\n",
      "24       25          Raipur           1\n",
      "25       26          Ranchi           1\n",
      "26       27       Abu Dhabi           3\n",
      "27       28          Rajkot           1\n",
      "28       29          Kanpur           1\n"
     ]
    }
   ],
   "source": [
    "P=pd.read_sql('''SELECT * FROM City;''', conn)\n",
    "print(P)\n"
   ]
  },
  {
   "cell_type": "code",
   "execution_count": 19,
   "id": "240d3207",
   "metadata": {},
   "outputs": [
    {
     "name": "stdout",
     "output_type": "stream",
     "text": [
      "<class 'pandas.core.frame.DataFrame'>\n",
      "RangeIndex: 29 entries, 0 to 28\n",
      "Data columns (total 3 columns):\n",
      " #   Column      Non-Null Count  Dtype \n",
      "---  ------      --------------  ----- \n",
      " 0   City_Id     29 non-null     int64 \n",
      " 1   City_Name   29 non-null     object\n",
      " 2   Country_id  29 non-null     int64 \n",
      "dtypes: int64(2), object(1)\n",
      "memory usage: 824.0+ bytes\n",
      "None\n"
     ]
    }
   ],
   "source": [
    "print(P.info())"
   ]
  },
  {
   "cell_type": "code",
   "execution_count": 8,
   "id": "9f9d3567",
   "metadata": {},
   "outputs": [],
   "source": [
    "# Example: Fetch data from a table\n",
    "cursor.execute(\"SELECT * FROM Table1\")\n",
    "data = cursor.fetchall()"
   ]
  },
  {
   "cell_type": "code",
   "execution_count": 20,
   "id": "b7934952",
   "metadata": {},
   "outputs": [
    {
     "name": "stdout",
     "output_type": "stream",
     "text": [
      "    Match_Id  Team_1  Team_2           Match_Date  Season_Id  Venue_Id  \\\n",
      "0     335987       2       1  2008-04-18 00:00:00          1         1   \n",
      "1     335991       1       8  2008-04-20 00:00:00          1         5   \n",
      "2     336015       1       2  2008-05-08 00:00:00          1         5   \n",
      "3     336019       8       1  2008-05-11 00:00:00          1         7   \n",
      "4     336022       1       6  2008-05-13 00:00:00          1         5   \n",
      "..       ...     ...     ...                  ...        ...       ...   \n",
      "63    980944      12       1  2016-04-24 00:00:00          9        32   \n",
      "64    980964       2       1  2016-05-02 00:00:00          9         1   \n",
      "65    980968       1       4  2016-05-04 00:00:00          9         5   \n",
      "66    980994       1      12  2016-05-14 00:00:00          9         5   \n",
      "67    981014       1      11  2016-05-22 00:00:00          9         5   \n",
      "\n",
      "    Toss_Winner  Toss_Decide  Win_Type  Win_Margin  Outcome_type  \\\n",
      "0             2            1         1         140             1   \n",
      "1             8            2         2           5             1   \n",
      "2             1            2         1           5             1   \n",
      "3             1            2         1          23             1   \n",
      "4             1            2         1          23             1   \n",
      "..          ...          ...       ...         ...           ...   \n",
      "63            1            1         2           2             1   \n",
      "64            1            1         2           5             1   \n",
      "65            4            1         1           7             1   \n",
      "66           12            2         2           8             1   \n",
      "67           11            1         1          22             1   \n",
      "\n",
      "    Match_Winner  Man_of_the_Match  \n",
      "0              1                 2  \n",
      "1              1                 4  \n",
      "2              1                 1  \n",
      "3              1                 1  \n",
      "4              1               144  \n",
      "..           ...               ...  \n",
      "63             1               308  \n",
      "64             1               334  \n",
      "65             1               334  \n",
      "66             1                31  \n",
      "67             1                31  \n",
      "\n",
      "[68 rows x 13 columns]\n"
     ]
    }
   ],
   "source": [
    "\n",
    "t=pd.read_sql('''SELECT * FROM MATCH WHERE MATCH_WINNER ==1;''', conn)\n",
    "print(t)"
   ]
  },
  {
   "cell_type": "code",
   "execution_count": 21,
   "id": "42a814b3",
   "metadata": {},
   "outputs": [
    {
     "name": "stdout",
     "output_type": "stream",
     "text": [
      "    Outcome_type  Match_Id\n",
      "0              1    335987\n",
      "1              1    335991\n",
      "2              1    336015\n",
      "3              1    336019\n",
      "4              1    336022\n",
      "..           ...       ...\n",
      "63             1    980944\n",
      "64             1    980964\n",
      "65             1    980968\n",
      "66             1    980994\n",
      "67             1    981014\n",
      "\n",
      "[68 rows x 2 columns]\n"
     ]
    }
   ],
   "source": [
    "t=pd.read_sql('''SELECT Outcome_type,Match_Id FROM MATCH WHERE MATCH_WINNER ==1;''', conn)\n",
    "print(t)"
   ]
  },
  {
   "cell_type": "code",
   "execution_count": 22,
   "id": "2512e276",
   "metadata": {},
   "outputs": [
    {
     "name": "stdout",
     "output_type": "stream",
     "text": [
      "   Outcome_type  Match_Id  Match_Winner  Match_Id\n",
      "0             1    980964             1    980964\n",
      "1             1    980968             1    980968\n",
      "2             1    980994             1    980994\n",
      "3             1    981014             1    981014\n"
     ]
    }
   ],
   "source": [
    "\n",
    "t=pd.read_sql('''SELECT Outcome_type,Match_Id,MATCH_WINNER,Match_Id FROM MATCH WHERE MATCH_WINNER ==1 AND Match_Id>980944;''', conn)\n",
    "print(t)"
   ]
  },
  {
   "cell_type": "code",
   "execution_count": 23,
   "id": "105fb780",
   "metadata": {},
   "outputs": [
    {
     "name": "stdout",
     "output_type": "stream",
     "text": [
      "    Match_Id  Team_1  Team_2           Match_Date  Season_Id  Venue_Id  \\\n",
      "0     335987       2       1  2008-04-18 00:00:00          1         1   \n",
      "1     335991       1       8  2008-04-20 00:00:00          1         5   \n",
      "2     336015       1       2  2008-05-08 00:00:00          1         5   \n",
      "3     336019       8       1  2008-05-11 00:00:00          1         7   \n",
      "4     336022       1       6  2008-05-13 00:00:00          1         5   \n",
      "..       ...     ...     ...                  ...        ...       ...   \n",
      "63    980944      12       1  2016-04-24 00:00:00          9        32   \n",
      "64    980964       2       1  2016-05-02 00:00:00          9         1   \n",
      "65    980968       1       4  2016-05-04 00:00:00          9         5   \n",
      "66    980994       1      12  2016-05-14 00:00:00          9         5   \n",
      "67    981014       1      11  2016-05-22 00:00:00          9         5   \n",
      "\n",
      "    Toss_Winner  Toss_Decide  Win_Type  Win_Margin  Outcome_type  \\\n",
      "0             2            1         1         140             1   \n",
      "1             8            2         2           5             1   \n",
      "2             1            2         1           5             1   \n",
      "3             1            2         1          23             1   \n",
      "4             1            2         1          23             1   \n",
      "..          ...          ...       ...         ...           ...   \n",
      "63            1            1         2           2             1   \n",
      "64            1            1         2           5             1   \n",
      "65            4            1         1           7             1   \n",
      "66           12            2         2           8             1   \n",
      "67           11            1         1          22             1   \n",
      "\n",
      "    Match_Winner  Man_of_the_Match  \n",
      "0              1                 2  \n",
      "1              1                 4  \n",
      "2              1                 1  \n",
      "3              1                 1  \n",
      "4              1               144  \n",
      "..           ...               ...  \n",
      "63             1               308  \n",
      "64             1               334  \n",
      "65             1               334  \n",
      "66             1                31  \n",
      "67             1                31  \n",
      "\n",
      "[68 rows x 13 columns]\n"
     ]
    }
   ],
   "source": [
    "t=pd.read_sql('''SELECT * FROM MATCH WHERE MATCH_WINNER==(SELECT MIN(City_Id) FROM City);''', conn)\n",
    "print(t)"
   ]
  },
  {
   "cell_type": "code",
   "execution_count": 24,
   "id": "b0a3fadc",
   "metadata": {},
   "outputs": [
    {
     "name": "stdout",
     "output_type": "stream",
     "text": [
      "    Match_Id  Team_1  Team_2           Match_Date  Season_Id  Venue_Id  \\\n",
      "0     335987       2       1  2008-04-18 00:00:00          1         1   \n",
      "1     335991       1       8  2008-04-20 00:00:00          1         5   \n",
      "2     336015       1       2  2008-05-08 00:00:00          1         5   \n",
      "3     336019       8       1  2008-05-11 00:00:00          1         7   \n",
      "4     336022       1       6  2008-05-13 00:00:00          1         5   \n",
      "..       ...     ...     ...                  ...        ...       ...   \n",
      "63    980944      12       1  2016-04-24 00:00:00          9        32   \n",
      "64    980964       2       1  2016-05-02 00:00:00          9         1   \n",
      "65    980968       1       4  2016-05-04 00:00:00          9         5   \n",
      "66    980994       1      12  2016-05-14 00:00:00          9         5   \n",
      "67    981014       1      11  2016-05-22 00:00:00          9         5   \n",
      "\n",
      "    Toss_Winner  Toss_Decide  Win_Type  Win_Margin  Outcome_type  \\\n",
      "0             2            1         1         140             1   \n",
      "1             8            2         2           5             1   \n",
      "2             1            2         1           5             1   \n",
      "3             1            2         1          23             1   \n",
      "4             1            2         1          23             1   \n",
      "..          ...          ...       ...         ...           ...   \n",
      "63            1            1         2           2             1   \n",
      "64            1            1         2           5             1   \n",
      "65            4            1         1           7             1   \n",
      "66           12            2         2           8             1   \n",
      "67           11            1         1          22             1   \n",
      "\n",
      "    Match_Winner  Man_of_the_Match  \n",
      "0              1                 2  \n",
      "1              1                 4  \n",
      "2              1                 1  \n",
      "3              1                 1  \n",
      "4              1               144  \n",
      "..           ...               ...  \n",
      "63             1               308  \n",
      "64             1               334  \n",
      "65             1               334  \n",
      "66             1                31  \n",
      "67             1                31  \n",
      "\n",
      "[68 rows x 13 columns]\n"
     ]
    }
   ],
   "source": [
    "t=pd.read_sql('''SELECT * FROM MATCH WHERE MATCH_WINNER==(SELECT MIN(City_Id) FROM City);''', conn)\n",
    "print(t)"
   ]
  },
  {
   "cell_type": "code",
   "execution_count": 25,
   "id": "d3cb2fdf",
   "metadata": {},
   "outputs": [
    {
     "name": "stdout",
     "output_type": "stream",
     "text": [
      "   MIN(City_Id)\n",
      "0             1\n"
     ]
    }
   ],
   "source": [
    "t=pd.read_sql('''SELECT MIN(City_Id) FROM City;''', conn)\n",
    "print(t)"
   ]
  },
  {
   "cell_type": "code",
   "execution_count": 26,
   "id": "aada38ab",
   "metadata": {},
   "outputs": [
    {
     "name": "stdout",
     "output_type": "stream",
     "text": [
      "   Season_Id  Man_of_the_Series  Orange_Cap  Purple_Cap  Season_Year\n",
      "0          1                 32         100         102         2008\n",
      "1          3                133         133         131         2010\n",
      "2          4                162         162         194         2011\n",
      "3          5                315         162         190         2012\n",
      "4          8                334         187          71         2015\n"
     ]
    }
   ],
   "source": [
    "\n",
    "t=pd.read_sql('''SELECT * FROM Season WHERE Orange_Cap>46;''', conn)\n",
    "print(t)"
   ]
  },
  {
   "cell_type": "code",
   "execution_count": null,
   "id": "f042cbe8",
   "metadata": {},
   "outputs": [],
   "source": [
    "# Example: Fetch data from a table\n",
    "cursor.execute(\"SELECT * FROM your_table_name\")\n",
    "data = cursor.fetchall()\n",
    "\n",
    "# Example: Insert data into a table\n",
    "cursor.execute(\"INSERT INTO your_table_name (column1, column2) VALUES (?, ?)\", (value1, value2))\n",
    "conn.commit()  # Commit the changes\n",
    "\n",
    "# Example: Update data in a table\n",
    "cursor.execute(\"UPDATE your_table_name SET column1 = ? WHERE column2 = ?\", (new_value, condition))\n",
    "conn.commit()  # Commit the changes\n",
    "\n",
    "# Example: Delete data from a table\n",
    "cursor.execute(\"DELETE FROM your_table_name WHERE column1 = ?\", (condition,))\n",
    "conn.commit()  # Commit the changes\n"
   ]
  },
  {
   "cell_type": "code",
   "execution_count": null,
   "id": "dcb3512a",
   "metadata": {},
   "outputs": [],
   "source": []
  },
  {
   "cell_type": "code",
   "execution_count": null,
   "id": "f8f9b6c8",
   "metadata": {},
   "outputs": [],
   "source": []
  },
  {
   "cell_type": "code",
   "execution_count": null,
   "id": "b39ff87c",
   "metadata": {},
   "outputs": [],
   "source": []
  },
  {
   "cell_type": "code",
   "execution_count": null,
   "id": "5c3f0c45",
   "metadata": {},
   "outputs": [],
   "source": []
  },
  {
   "cell_type": "code",
   "execution_count": null,
   "id": "5104c7de",
   "metadata": {},
   "outputs": [],
   "source": []
  },
  {
   "cell_type": "code",
   "execution_count": null,
   "id": "5e02ffaa",
   "metadata": {},
   "outputs": [],
   "source": []
  },
  {
   "cell_type": "code",
   "execution_count": null,
   "id": "be12e958",
   "metadata": {},
   "outputs": [],
   "source": []
  },
  {
   "cell_type": "code",
   "execution_count": null,
   "id": "800d18d8",
   "metadata": {},
   "outputs": [],
   "source": []
  },
  {
   "cell_type": "code",
   "execution_count": null,
   "id": "bd48f6e1",
   "metadata": {},
   "outputs": [],
   "source": []
  },
  {
   "cell_type": "code",
   "execution_count": null,
   "id": "f8ee4986",
   "metadata": {},
   "outputs": [],
   "source": []
  },
  {
   "cell_type": "code",
   "execution_count": null,
   "id": "c5cce98f",
   "metadata": {},
   "outputs": [],
   "source": []
  },
  {
   "cell_type": "code",
   "execution_count": null,
   "id": "48435ca1",
   "metadata": {},
   "outputs": [],
   "source": []
  },
  {
   "cell_type": "code",
   "execution_count": null,
   "id": "017ff293",
   "metadata": {},
   "outputs": [],
   "source": []
  },
  {
   "cell_type": "code",
   "execution_count": null,
   "id": "7fef976d",
   "metadata": {},
   "outputs": [],
   "source": []
  },
  {
   "cell_type": "code",
   "execution_count": null,
   "id": "57762305",
   "metadata": {},
   "outputs": [],
   "source": []
  },
  {
   "cell_type": "code",
   "execution_count": null,
   "id": "56e5a188",
   "metadata": {},
   "outputs": [],
   "source": []
  },
  {
   "cell_type": "code",
   "execution_count": null,
   "id": "fe6c3348",
   "metadata": {},
   "outputs": [],
   "source": []
  }
 ],
 "metadata": {
  "kernelspec": {
   "display_name": "Python 3 (ipykernel)",
   "language": "python",
   "name": "python3"
  },
  "language_info": {
   "codemirror_mode": {
    "name": "ipython",
    "version": 3
   },
   "file_extension": ".py",
   "mimetype": "text/x-python",
   "name": "python",
   "nbconvert_exporter": "python",
   "pygments_lexer": "ipython3",
   "version": "3.9.13"
  }
 },
 "nbformat": 4,
 "nbformat_minor": 5
}
