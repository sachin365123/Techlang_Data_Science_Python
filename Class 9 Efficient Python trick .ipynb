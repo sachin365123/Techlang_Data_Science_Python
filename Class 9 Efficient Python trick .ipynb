{
 "cells": [
  {
   "cell_type": "markdown",
   "id": "0ece1093",
   "metadata": {},
   "source": [
    "# Efficient Python trick in Data Science "
   ]
  },
  {
   "cell_type": "code",
   "execution_count": 1,
   "id": "70278ee1",
   "metadata": {},
   "outputs": [
    {
     "name": "stdout",
     "output_type": "stream",
     "text": [
      "2.3\n"
     ]
    }
   ],
   "source": [
    "# f-strings\n",
    "num=2.312356\n",
    "print(f'{num:.1f}')"
   ]
  },
  {
   "cell_type": "code",
   "execution_count": 2,
   "id": "f01ce29c",
   "metadata": {},
   "outputs": [
    {
     "name": "stdout",
     "output_type": "stream",
     "text": [
      "2.31\n"
     ]
    }
   ],
   "source": [
    "# f-strings\n",
    "num=2.312356\n",
    "print(f'{num:.2f}')"
   ]
  },
  {
   "cell_type": "code",
   "execution_count": 3,
   "id": "4cb3424c",
   "metadata": {},
   "outputs": [
    {
     "name": "stdout",
     "output_type": "stream",
     "text": [
      "2.312\n"
     ]
    }
   ],
   "source": [
    "# f-strings\n",
    "num=2.312356\n",
    "print(f'{num:.3f}')"
   ]
  },
  {
   "cell_type": "code",
   "execution_count": 9,
   "id": "28699039",
   "metadata": {},
   "outputs": [
    {
     "name": "stdout",
     "output_type": "stream",
     "text": [
      "You need to here at 03:30 PM on Sunday\n"
     ]
    }
   ],
   "source": [
    "from datetime import datetime\n",
    "date=datetime(2023,1,1,15,30,45)\n",
    "print(f'You need to here at ' f'{date:%I:%M %p} on {date:%A}')"
   ]
  },
  {
   "cell_type": "code",
   "execution_count": 6,
   "id": "1a30cb8e",
   "metadata": {},
   "outputs": [
    {
     "name": "stdout",
     "output_type": "stream",
     "text": [
      "2023-08-23 20:14:42.303509\n"
     ]
    }
   ],
   "source": [
    "print(datetime.now())"
   ]
  },
  {
   "cell_type": "markdown",
   "id": "41220aff",
   "metadata": {},
   "source": [
    "## Pad with wake up "
   ]
  },
  {
   "cell_type": "code",
   "execution_count": 12,
   "id": "d68136da",
   "metadata": {},
   "outputs": [
    {
     "name": "stdout",
     "output_type": "stream",
     "text": [
      "It is 08 AM! Wake up !\n",
      "It is 09 AM! Wake up !\n",
      "It is 10 AM! Wake up !\n",
      "It is 11 AM! Wake up !\n"
     ]
    }
   ],
   "source": [
    "for hour in range(8,12):\n",
    "    print(f'It is {hour:02} AM! Wake up !')"
   ]
  },
  {
   "cell_type": "markdown",
   "id": "38e15526",
   "metadata": {},
   "source": [
    "## Calculations in format "
   ]
  },
  {
   "cell_type": "code",
   "execution_count": 13,
   "id": "f079e649",
   "metadata": {},
   "outputs": [
    {
     "name": "stdout",
     "output_type": "stream",
     "text": [
      "The total price will be 12.\n"
     ]
    }
   ],
   "source": [
    "mango=5\n",
    "banana=7\n",
    "\n",
    "print(f'The total price will be {mango+banana}.')"
   ]
  },
  {
   "cell_type": "markdown",
   "id": "18509ba5",
   "metadata": {},
   "source": [
    "### Iterations with f string "
   ]
  },
  {
   "cell_type": "code",
   "execution_count": 21,
   "id": "f4c6da25",
   "metadata": {},
   "outputs": [
    {
     "name": "stdout",
     "output_type": "stream",
     "text": [
      "i=1, j=2\n",
      "i=1, j=3\n",
      "i=1, j=4\n",
      "i=1, j=5\n",
      "i=1, j=6\n",
      "i=2, j=1\n",
      "i=2, j=3\n",
      "i=2, j=4\n",
      "i=2, j=5\n",
      "i=2, j=6\n",
      "i=3, j=1\n",
      "i=3, j=2\n",
      "i=3, j=4\n",
      "i=3, j=5\n",
      "i=3, j=6\n",
      "i=4, j=1\n",
      "i=4, j=2\n",
      "i=4, j=3\n",
      "i=4, j=5\n",
      "i=4, j=6\n",
      "i=5, j=1\n",
      "i=5, j=2\n",
      "i=5, j=3\n",
      "i=5, j=4\n",
      "i=5, j=6\n",
      "i=6, j=1\n",
      "i=6, j=2\n",
      "i=6, j=3\n",
      "i=6, j=4\n",
      "i=6, j=5\n"
     ]
    }
   ],
   "source": [
    "from itertools import permutations\n",
    "\n",
    "nums=[1,2,3,4,5,6]\n",
    "for i,j in permutations(nums,2):\n",
    "    print(f'i={i}, j={j}')"
   ]
  },
  {
   "cell_type": "markdown",
   "id": "42c84cde",
   "metadata": {},
   "source": [
    "### Substring in format "
   ]
  },
  {
   "cell_type": "code",
   "execution_count": 32,
   "id": "d685d7eb",
   "metadata": {},
   "outputs": [],
   "source": [
    "sentence=\"Pima, North American Indians who traditionally lived along the Gila and Salt rivers in Arizona, U.S., in what was the core area of the prehistoric Hohokam culture. The Pima, who speak a Uto-Aztecan language and call themselves the “River People,” are usually considered to be the descendants of the Hohokam. Like their presumed ancestors, the Pima were traditionally sedentary farmers who lived in one-room houses and utilized the rivers for irrigation. Some hunting and gathering were done to supplement the diet, and in drought years, which occurred on the average of one year in five, crop failure made hunting and gathering the sole mode of subsistence. During these dry years jackrabbits and mesquite beans became the group’s dietary staples.The intensive farming of the Pima made possible larger villages than were feasible for their neighbours and relatives, the Tohono O’odham (Papago). With larger communities came a stronger and more complex political organization. In the early Spanish colonial period the Pima possessed a strong tribal organization, with a tribal chief elected by the chiefs of the various villages. The tribal and local chiefs attained their status through their personal qualities rather than through birth. The village chief, aided by a council of all adult males, had the responsibilities of directing the communal irrigation projects and of protecting the village against alien tribes, notably the Apache. Planting and harvesting crops were handled as a cooperative venture. Distribution of Southwest Indians More From Britannica\n",
    "Southwest Indian: The Yumans, Pima, and Tohono O’odham\n",
    "From the time of their earliest recorded contacts with European and American colonizers, the Pima have been regarded as a friendly people. During the California Gold Rush (1849–50), the Pima often gave or sold food to emigrant settlers and gold seekers and provided them with an escort through Apache territory. During the Apache wars (1861–86), Pimas served as scouts for the U.S. Army.. In the early 21st century Pima descendants numbered some 11,000.\"\n",
    "t=sentence.find(\"day\")"
   ]
  },
  {
   "cell_type": "code",
   "execution_count": 33,
   "id": "60359994",
   "metadata": {},
   "outputs": [
    {
     "data": {
      "text/plain": [
       "int"
      ]
     },
     "execution_count": 33,
     "metadata": {},
     "output_type": "execute_result"
    }
   ],
   "source": [
    "type(t)"
   ]
  },
  {
   "cell_type": "code",
   "execution_count": 34,
   "id": "f6351225",
   "metadata": {},
   "outputs": [
    {
     "data": {
      "text/plain": [
       "25"
      ]
     },
     "execution_count": 34,
     "metadata": {},
     "output_type": "execute_result"
    }
   ],
   "source": [
    "len(sentence)"
   ]
  },
  {
   "cell_type": "code",
   "execution_count": null,
   "id": "d1eac4ae",
   "metadata": {},
   "outputs": [],
   "source": [
    "j,count=0\n",
    "for i in range(len(sentence)):\n",
    "    t=sentence.find(\"day\",j)\n",
    "    count++\n",
    "    j=t\n",
    "    if t!=-1\n",
    "    return count\n",
    "    "
   ]
  },
  {
   "cell_type": "code",
   "execution_count": 31,
   "id": "f1d94d12",
   "metadata": {},
   "outputs": [
    {
     "data": {
      "text/plain": [
       "22"
      ]
     },
     "execution_count": 31,
     "metadata": {},
     "output_type": "execute_result"
    }
   ],
   "source": [
    "sentence.find(\"day\",22)"
   ]
  },
  {
   "cell_type": "code",
   "execution_count": 23,
   "id": "cf48e5a4",
   "metadata": {},
   "outputs": [
    {
     "data": {
      "text/plain": [
       "9"
      ]
     },
     "execution_count": 23,
     "metadata": {},
     "output_type": "execute_result"
    }
   ],
   "source": [
    "sentence.find(\"We\")"
   ]
  },
  {
   "cell_type": "code",
   "execution_count": 24,
   "id": "aebb0877",
   "metadata": {},
   "outputs": [
    {
     "data": {
      "text/plain": [
       "-1"
      ]
     },
     "execution_count": 24,
     "metadata": {},
     "output_type": "execute_result"
    }
   ],
   "source": [
    "sentence.find(\"we\")"
   ]
  },
  {
   "cell_type": "markdown",
   "id": "6a498c0b",
   "metadata": {},
   "source": [
    "### split function "
   ]
  },
  {
   "cell_type": "code",
   "execution_count": 35,
   "id": "44c40e75",
   "metadata": {},
   "outputs": [],
   "source": [
    "sentence=\"Pima, North American Indians who traditionally lived along the Gila and Salt rivers in Arizona, U.S., in what was the core area of the prehistoric Hohokam culture.\""
   ]
  },
  {
   "cell_type": "code",
   "execution_count": 36,
   "id": "6368cc1a",
   "metadata": {},
   "outputs": [
    {
     "data": {
      "text/plain": [
       "'Pima, North American Indians who traditionally lived along the Gila and Salt rivers in Arizona, U.S., in what was the core area of the prehistoric Hohokam culture.'"
      ]
     },
     "execution_count": 36,
     "metadata": {},
     "output_type": "execute_result"
    }
   ],
   "source": [
    "sentence"
   ]
  },
  {
   "cell_type": "code",
   "execution_count": 40,
   "id": "68ab4a37",
   "metadata": {},
   "outputs": [
    {
     "data": {
      "text/plain": [
       "str"
      ]
     },
     "execution_count": 40,
     "metadata": {},
     "output_type": "execute_result"
    }
   ],
   "source": [
    "type(sentence)"
   ]
  },
  {
   "cell_type": "code",
   "execution_count": 38,
   "id": "46562a2f",
   "metadata": {},
   "outputs": [],
   "source": [
    "t=sentence.split()"
   ]
  },
  {
   "cell_type": "code",
   "execution_count": null,
   "id": "2e4647fd",
   "metadata": {},
   "outputs": [],
   "source": []
  },
  {
   "cell_type": "code",
   "execution_count": 39,
   "id": "3842d91e",
   "metadata": {},
   "outputs": [
    {
     "data": {
      "text/plain": [
       "list"
      ]
     },
     "execution_count": 39,
     "metadata": {},
     "output_type": "execute_result"
    }
   ],
   "source": [
    "type(t)"
   ]
  },
  {
   "cell_type": "code",
   "execution_count": 41,
   "id": "7e4a6549",
   "metadata": {},
   "outputs": [
    {
     "name": "stdout",
     "output_type": "stream",
     "text": [
      "Pima,\n",
      "North\n",
      "American\n",
      "Indians\n",
      "who\n",
      "traditionally\n",
      "lived\n",
      "along\n",
      "the\n",
      "Gila\n",
      "and\n",
      "Salt\n",
      "rivers\n",
      "in\n",
      "Arizona,\n",
      "U.S.,\n",
      "in\n",
      "what\n",
      "was\n",
      "the\n",
      "core\n",
      "area\n",
      "of\n",
      "the\n",
      "prehistoric\n",
      "Hohokam\n",
      "culture.\n"
     ]
    }
   ],
   "source": [
    "for i in t:\n",
    "    print(i)"
   ]
  },
  {
   "cell_type": "code",
   "execution_count": 42,
   "id": "7e03180a",
   "metadata": {},
   "outputs": [],
   "source": [
    "t=sentence.split(\",\")"
   ]
  },
  {
   "cell_type": "code",
   "execution_count": 46,
   "id": "71565bb2",
   "metadata": {},
   "outputs": [
    {
     "name": "stdout",
     "output_type": "stream",
     "text": [
      "P\n",
      "i\n",
      "m\n",
      "a\n",
      ",\n",
      " \n",
      "N\n",
      "o\n",
      "r\n",
      "t\n",
      "h\n",
      " \n",
      "A\n",
      "m\n",
      "e\n",
      "r\n",
      "i\n",
      "c\n",
      "a\n",
      "n\n",
      " \n",
      "I\n",
      "n\n",
      "d\n",
      "i\n",
      "a\n",
      "n\n",
      "s\n",
      " \n",
      "w\n",
      "h\n",
      "o\n",
      " \n",
      "t\n",
      "r\n",
      "a\n",
      "d\n",
      "i\n",
      "t\n",
      "i\n",
      "o\n",
      "n\n",
      "a\n",
      "l\n",
      "l\n",
      "y\n",
      " \n",
      "l\n",
      "i\n",
      "v\n",
      "e\n",
      "d\n",
      " \n",
      "a\n",
      "l\n",
      "o\n",
      "n\n",
      "g\n",
      " \n",
      "t\n",
      "h\n",
      "e\n",
      " \n",
      "G\n",
      "i\n",
      "l\n",
      "a\n",
      " \n",
      "a\n",
      "n\n",
      "d\n",
      " \n",
      "S\n",
      "a\n",
      "l\n",
      "t\n",
      " \n",
      "r\n",
      "i\n",
      "v\n",
      "e\n",
      "r\n",
      "s\n",
      " \n",
      "i\n",
      "n\n",
      " \n",
      "A\n",
      "r\n",
      "i\n",
      "z\n",
      "o\n",
      "n\n",
      "a\n",
      ",\n",
      " \n",
      "U\n",
      ".\n",
      "S\n",
      ".\n",
      ",\n",
      " \n",
      "i\n",
      "n\n",
      " \n",
      "w\n",
      "h\n",
      "a\n",
      "t\n",
      " \n",
      "w\n",
      "a\n",
      "s\n",
      " \n",
      "t\n",
      "h\n",
      "e\n",
      " \n",
      "c\n",
      "o\n",
      "r\n",
      "e\n",
      " \n",
      "a\n",
      "r\n",
      "e\n",
      "a\n",
      " \n",
      "o\n",
      "f\n",
      " \n",
      "t\n",
      "h\n",
      "e\n",
      " \n",
      "p\n",
      "r\n",
      "e\n",
      "h\n",
      "i\n",
      "s\n",
      "t\n",
      "o\n",
      "r\n",
      "i\n",
      "c\n",
      " \n",
      "H\n",
      "o\n",
      "h\n",
      "o\n",
      "k\n",
      "a\n",
      "m\n",
      " \n",
      "c\n",
      "u\n",
      "l\n",
      "t\n",
      "u\n",
      "r\n",
      "e\n",
      ".\n"
     ]
    }
   ],
   "source": [
    "for i in sentence:\n",
    "    print(i)"
   ]
  },
  {
   "cell_type": "code",
   "execution_count": 43,
   "id": "e90c85ce",
   "metadata": {},
   "outputs": [
    {
     "data": {
      "text/plain": [
       "['Pima',\n",
       " ' North American Indians who traditionally lived along the Gila and Salt rivers in Arizona',\n",
       " ' U.S.',\n",
       " ' in what was the core area of the prehistoric Hohokam culture.']"
      ]
     },
     "execution_count": 43,
     "metadata": {},
     "output_type": "execute_result"
    }
   ],
   "source": [
    "t"
   ]
  },
  {
   "cell_type": "code",
   "execution_count": 45,
   "id": "6e0c1906",
   "metadata": {},
   "outputs": [
    {
     "data": {
      "text/plain": [
       "4"
      ]
     },
     "execution_count": 45,
     "metadata": {},
     "output_type": "execute_result"
    }
   ],
   "source": [
    "len(t)"
   ]
  },
  {
   "cell_type": "code",
   "execution_count": 44,
   "id": "354204a6",
   "metadata": {},
   "outputs": [
    {
     "name": "stdout",
     "output_type": "stream",
     "text": [
      "Pima\n",
      " North American Indians who traditionally lived along the Gila and Salt rivers in Arizona\n",
      " U.S.\n",
      " in what was the core area of the prehistoric Hohokam culture.\n"
     ]
    }
   ],
   "source": [
    "for i in t:\n",
    "    print(i)"
   ]
  },
  {
   "cell_type": "code",
   "execution_count": 47,
   "id": "d02a35a0",
   "metadata": {},
   "outputs": [],
   "source": [
    "t=sentence.split()"
   ]
  },
  {
   "cell_type": "code",
   "execution_count": null,
   "id": "371e5dd5",
   "metadata": {},
   "outputs": [],
   "source": []
  },
  {
   "cell_type": "code",
   "execution_count": 48,
   "id": "24bb1624",
   "metadata": {},
   "outputs": [
    {
     "data": {
      "text/plain": [
       "['Pima,',\n",
       " 'North',\n",
       " 'American',\n",
       " 'Indians',\n",
       " 'who',\n",
       " 'traditionally',\n",
       " 'lived',\n",
       " 'along',\n",
       " 'the',\n",
       " 'Gila',\n",
       " 'and',\n",
       " 'Salt',\n",
       " 'rivers',\n",
       " 'in',\n",
       " 'Arizona,',\n",
       " 'U.S.,',\n",
       " 'in',\n",
       " 'what',\n",
       " 'was',\n",
       " 'the',\n",
       " 'core',\n",
       " 'area',\n",
       " 'of',\n",
       " 'the',\n",
       " 'prehistoric',\n",
       " 'Hohokam',\n",
       " 'culture.']"
      ]
     },
     "execution_count": 48,
     "metadata": {},
     "output_type": "execute_result"
    }
   ],
   "source": [
    "t"
   ]
  },
  {
   "cell_type": "code",
   "execution_count": null,
   "id": "f35a84cc",
   "metadata": {},
   "outputs": [],
   "source": []
  },
  {
   "cell_type": "code",
   "execution_count": 49,
   "id": "0d5dcfbc",
   "metadata": {},
   "outputs": [
    {
     "name": "stdout",
     "output_type": "stream",
     "text": [
      "Pima,\n",
      "North\n",
      "American\n",
      "Indians\n",
      "who\n",
      "traditionally\n",
      "lived\n",
      "along\n",
      "the\n",
      "Gila\n",
      "and\n",
      "Salt\n",
      "rivers\n",
      "in\n",
      "Arizona,\n",
      "U.S.,\n",
      "in\n",
      "what\n",
      "was\n",
      "the\n",
      "core\n",
      "area\n",
      "of\n",
      "the\n",
      "prehistoric\n",
      "Hohokam\n",
      "culture.\n"
     ]
    }
   ],
   "source": [
    "for i in t:\n",
    "    print(i)"
   ]
  },
  {
   "cell_type": "code",
   "execution_count": null,
   "id": "66b731af",
   "metadata": {},
   "outputs": [],
   "source": []
  },
  {
   "cell_type": "code",
   "execution_count": null,
   "id": "e731f658",
   "metadata": {},
   "outputs": [],
   "source": []
  }
 ],
 "metadata": {
  "kernelspec": {
   "display_name": "Python 3 (ipykernel)",
   "language": "python",
   "name": "python3"
  },
  "language_info": {
   "codemirror_mode": {
    "name": "ipython",
    "version": 3
   },
   "file_extension": ".py",
   "mimetype": "text/x-python",
   "name": "python",
   "nbconvert_exporter": "python",
   "pygments_lexer": "ipython3",
   "version": "3.9.13"
  }
 },
 "nbformat": 4,
 "nbformat_minor": 5
}
